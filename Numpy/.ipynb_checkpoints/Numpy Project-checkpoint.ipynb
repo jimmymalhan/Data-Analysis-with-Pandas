{
 "cells": [
  {
   "cell_type": "code",
   "execution_count": 2,
   "metadata": {},
   "outputs": [],
   "source": [
    "import numpy\n",
    "import cv2"
   ]
  },
  {
   "cell_type": "code",
   "execution_count": 3,
   "metadata": {},
   "outputs": [
    {
     "data": {
      "text/plain": [
       "array([[187, 158, 104, 121, 143],\n",
       "       [198, 125, 255, 255, 147],\n",
       "       [209, 134, 255,  97, 182]], dtype=uint8)"
      ]
     },
     "execution_count": 3,
     "metadata": {},
     "output_type": "execute_result"
    }
   ],
   "source": [
    "#reading the image dimensions. 0 arg open as gray\n",
    "im_g=cv2.imread(\"smallgray.png\",0) \n",
    "im_g"
   ]
  },
  {
   "cell_type": "code",
   "execution_count": 4,
   "metadata": {},
   "outputs": [
    {
     "data": {
      "text/plain": [
       "array([[[187, 187, 187],\n",
       "        [158, 158, 158],\n",
       "        [104, 104, 104],\n",
       "        [121, 121, 121],\n",
       "        [143, 143, 143]],\n",
       "\n",
       "       [[198, 198, 198],\n",
       "        [125, 125, 125],\n",
       "        [255, 255, 255],\n",
       "        [255, 255, 255],\n",
       "        [147, 147, 147]],\n",
       "\n",
       "       [[209, 209, 209],\n",
       "        [134, 134, 134],\n",
       "        [255, 255, 255],\n",
       "        [ 97,  97,  97],\n",
       "        [182, 182, 182]]], dtype=uint8)"
      ]
     },
     "execution_count": 4,
     "metadata": {},
     "output_type": "execute_result"
    }
   ],
   "source": [
    "#reading the image dimensions.1 arg open as BGR(Blue Green Red)\n",
    "im_g=cv2.imread(\"smallgray.png\",1) \n",
    "print(im_g)"
   ]
  },
  {
   "cell_type": "code",
   "execution_count": 5,
   "metadata": {},
   "outputs": [
    {
     "data": {
      "text/plain": [
       "True"
      ]
     },
     "execution_count": 5,
     "metadata": {},
     "output_type": "execute_result"
    }
   ],
   "source": [
    "#creates a new file based on numpy array\n",
    "cv2.imwrite(\"newsmallgray.png\",im_g) "
   ]
  },
  {
   "cell_type": "code",
   "execution_count": 6,
   "metadata": {},
   "outputs": [
    {
     "data": {
      "text/plain": [
       "array([[[187, 187, 187],\n",
       "        [158, 158, 158],\n",
       "        [104, 104, 104],\n",
       "        [121, 121, 121],\n",
       "        [143, 143, 143]],\n",
       "\n",
       "       [[198, 198, 198],\n",
       "        [125, 125, 125],\n",
       "        [255, 255, 255],\n",
       "        [255, 255, 255],\n",
       "        [147, 147, 147]]], dtype=uint8)"
      ]
     },
     "execution_count": 6,
     "metadata": {},
     "output_type": "execute_result"
    }
   ],
   "source": [
    "#indexing in numpy array\n",
    "im_g[0:2]"
   ]
  },
  {
   "cell_type": "code",
   "execution_count": 8,
   "metadata": {},
   "outputs": [
    {
     "data": {
      "text/plain": [
       "array([[[104, 104, 104],\n",
       "        [121, 121, 121]],\n",
       "\n",
       "       [[255, 255, 255],\n",
       "        [255, 255, 255]]], dtype=uint8)"
      ]
     },
     "execution_count": 8,
     "metadata": {},
     "output_type": "execute_result"
    }
   ],
   "source": [
    "im_g[0:2,2:4]"
   ]
  },
  {
   "cell_type": "code",
   "execution_count": 9,
   "metadata": {},
   "outputs": [
    {
     "data": {
      "text/plain": [
       "(3, 5, 3)"
      ]
     },
     "execution_count": 9,
     "metadata": {},
     "output_type": "execute_result"
    }
   ],
   "source": [
    "#numpy array shape\n",
    "im_g.shape"
   ]
  },
  {
   "cell_type": "code",
   "execution_count": 12,
   "metadata": {},
   "outputs": [
    {
     "data": {
      "text/plain": [
       "array([134, 134, 134], dtype=uint8)"
      ]
     },
     "execution_count": 12,
     "metadata": {},
     "output_type": "execute_result"
    }
   ],
   "source": [
    "im_g[2,1]"
   ]
  },
  {
   "cell_type": "code",
   "execution_count": 13,
   "metadata": {},
   "outputs": [
    {
     "name": "stdout",
     "output_type": "stream",
     "text": [
      "[[187 187 187]\n",
      " [158 158 158]\n",
      " [104 104 104]\n",
      " [121 121 121]\n",
      " [143 143 143]]\n",
      "[[198 198 198]\n",
      " [125 125 125]\n",
      " [255 255 255]\n",
      " [255 255 255]\n",
      " [147 147 147]]\n",
      "[[209 209 209]\n",
      " [134 134 134]\n",
      " [255 255 255]\n",
      " [ 97  97  97]\n",
      " [182 182 182]]\n"
     ]
    }
   ],
   "source": [
    "#iterating in numpy array by rows\n",
    "for i in im_g:\n",
    "    print(i)"
   ]
  },
  {
   "cell_type": "code",
   "execution_count": 14,
   "metadata": {},
   "outputs": [
    {
     "name": "stdout",
     "output_type": "stream",
     "text": [
      "[[187 198 209]\n",
      " [158 125 134]\n",
      " [104 255 255]\n",
      " [121 255  97]\n",
      " [143 147 182]]\n",
      "[[187 198 209]\n",
      " [158 125 134]\n",
      " [104 255 255]\n",
      " [121 255  97]\n",
      " [143 147 182]]\n",
      "[[187 198 209]\n",
      " [158 125 134]\n",
      " [104 255 255]\n",
      " [121 255  97]\n",
      " [143 147 182]]\n"
     ]
    }
   ],
   "source": [
    "#iterating in numpy array by columns\n",
    "for i in im_g.T:\n",
    "    print(i)"
   ]
  },
  {
   "cell_type": "code",
   "execution_count": 15,
   "metadata": {},
   "outputs": [
    {
     "name": "stdout",
     "output_type": "stream",
     "text": [
      "187\n",
      "187\n",
      "187\n",
      "158\n",
      "158\n",
      "158\n",
      "104\n",
      "104\n",
      "104\n",
      "121\n",
      "121\n",
      "121\n",
      "143\n",
      "143\n",
      "143\n",
      "198\n",
      "198\n",
      "198\n",
      "125\n",
      "125\n",
      "125\n",
      "255\n",
      "255\n",
      "255\n",
      "255\n",
      "255\n",
      "255\n",
      "147\n",
      "147\n",
      "147\n",
      "209\n",
      "209\n",
      "209\n",
      "134\n",
      "134\n",
      "134\n",
      "255\n",
      "255\n",
      "255\n",
      "97\n",
      "97\n",
      "97\n",
      "182\n",
      "182\n",
      "182\n"
     ]
    }
   ],
   "source": [
    "#iterating value by value\n",
    "for i in im_g.flat:\n",
    "    print(i)"
   ]
  },
  {
   "cell_type": "code",
   "execution_count": 16,
   "metadata": {},
   "outputs": [
    {
     "data": {
      "text/plain": [
       "array([[[187, 187, 187],\n",
       "        [158, 158, 158],\n",
       "        [104, 104, 104],\n",
       "        [121, 121, 121],\n",
       "        [143, 143, 143]],\n",
       "\n",
       "       [[198, 198, 198],\n",
       "        [125, 125, 125],\n",
       "        [255, 255, 255],\n",
       "        [255, 255, 255],\n",
       "        [147, 147, 147]],\n",
       "\n",
       "       [[209, 209, 209],\n",
       "        [134, 134, 134],\n",
       "        [255, 255, 255],\n",
       "        [ 97,  97,  97],\n",
       "        [182, 182, 182]]], dtype=uint8)"
      ]
     },
     "execution_count": 16,
     "metadata": {},
     "output_type": "execute_result"
    }
   ],
   "source": [
    "#stacking and splitting numpy arrays\n",
    "im_g"
   ]
  },
  {
   "cell_type": "code",
   "execution_count": 24,
   "metadata": {},
   "outputs": [
    {
     "name": "stdout",
     "output_type": "stream",
     "text": [
      "[[[187 187 187]\n",
      "  [158 158 158]\n",
      "  [104 104 104]\n",
      "  [121 121 121]\n",
      "  [143 143 143]\n",
      "  [187 187 187]\n",
      "  [158 158 158]\n",
      "  [104 104 104]\n",
      "  [121 121 121]\n",
      "  [143 143 143]\n",
      "  [187 187 187]\n",
      "  [158 158 158]\n",
      "  [104 104 104]\n",
      "  [121 121 121]\n",
      "  [143 143 143]]\n",
      "\n",
      " [[198 198 198]\n",
      "  [125 125 125]\n",
      "  [255 255 255]\n",
      "  [255 255 255]\n",
      "  [147 147 147]\n",
      "  [198 198 198]\n",
      "  [125 125 125]\n",
      "  [255 255 255]\n",
      "  [255 255 255]\n",
      "  [147 147 147]\n",
      "  [198 198 198]\n",
      "  [125 125 125]\n",
      "  [255 255 255]\n",
      "  [255 255 255]\n",
      "  [147 147 147]]\n",
      "\n",
      " [[209 209 209]\n",
      "  [134 134 134]\n",
      "  [255 255 255]\n",
      "  [ 97  97  97]\n",
      "  [182 182 182]\n",
      "  [209 209 209]\n",
      "  [134 134 134]\n",
      "  [255 255 255]\n",
      "  [ 97  97  97]\n",
      "  [182 182 182]\n",
      "  [209 209 209]\n",
      "  [134 134 134]\n",
      "  [255 255 255]\n",
      "  [ 97  97  97]\n",
      "  [182 182 182]]]\n"
     ]
    }
   ],
   "source": [
    "#stacking horizontally\n",
    "ims=numpy.hstack((im_g,im_g,im_g)) \n",
    "print(ims)"
   ]
  },
  {
   "cell_type": "code",
   "execution_count": 25,
   "metadata": {},
   "outputs": [
    {
     "data": {
      "text/plain": [
       "[array([[[187, 187, 187],\n",
       "         [158, 158, 158],\n",
       "         [104, 104, 104]],\n",
       " \n",
       "        [[198, 198, 198],\n",
       "         [125, 125, 125],\n",
       "         [255, 255, 255]],\n",
       " \n",
       "        [[209, 209, 209],\n",
       "         [134, 134, 134],\n",
       "         [255, 255, 255]]], dtype=uint8),\n",
       " array([[[121, 121, 121],\n",
       "         [143, 143, 143],\n",
       "         [187, 187, 187]],\n",
       " \n",
       "        [[255, 255, 255],\n",
       "         [147, 147, 147],\n",
       "         [198, 198, 198]],\n",
       " \n",
       "        [[ 97,  97,  97],\n",
       "         [182, 182, 182],\n",
       "         [209, 209, 209]]], dtype=uint8),\n",
       " array([[[158, 158, 158],\n",
       "         [104, 104, 104],\n",
       "         [121, 121, 121]],\n",
       " \n",
       "        [[125, 125, 125],\n",
       "         [255, 255, 255],\n",
       "         [255, 255, 255]],\n",
       " \n",
       "        [[134, 134, 134],\n",
       "         [255, 255, 255],\n",
       "         [ 97,  97,  97]]], dtype=uint8),\n",
       " array([[[143, 143, 143],\n",
       "         [187, 187, 187],\n",
       "         [158, 158, 158]],\n",
       " \n",
       "        [[147, 147, 147],\n",
       "         [198, 198, 198],\n",
       "         [125, 125, 125]],\n",
       " \n",
       "        [[182, 182, 182],\n",
       "         [209, 209, 209],\n",
       "         [134, 134, 134]]], dtype=uint8),\n",
       " array([[[104, 104, 104],\n",
       "         [121, 121, 121],\n",
       "         [143, 143, 143]],\n",
       " \n",
       "        [[255, 255, 255],\n",
       "         [255, 255, 255],\n",
       "         [147, 147, 147]],\n",
       " \n",
       "        [[255, 255, 255],\n",
       "         [ 97,  97,  97],\n",
       "         [182, 182, 182]]], dtype=uint8)]"
      ]
     },
     "execution_count": 25,
     "metadata": {},
     "output_type": "execute_result"
    }
   ],
   "source": [
    "#splitting horizontally\n",
    "lst=numpy.hsplit(ims,5)\n",
    "lst"
   ]
  },
  {
   "cell_type": "code",
   "execution_count": 29,
   "metadata": {},
   "outputs": [
    {
     "name": "stdout",
     "output_type": "stream",
     "text": [
      "[[[187 187 187]\n",
      "  [158 158 158]\n",
      "  [104 104 104]\n",
      "  [121 121 121]\n",
      "  [143 143 143]]\n",
      "\n",
      " [[198 198 198]\n",
      "  [125 125 125]\n",
      "  [255 255 255]\n",
      "  [255 255 255]\n",
      "  [147 147 147]]\n",
      "\n",
      " [[209 209 209]\n",
      "  [134 134 134]\n",
      "  [255 255 255]\n",
      "  [ 97  97  97]\n",
      "  [182 182 182]]\n",
      "\n",
      " [[187 187 187]\n",
      "  [158 158 158]\n",
      "  [104 104 104]\n",
      "  [121 121 121]\n",
      "  [143 143 143]]\n",
      "\n",
      " [[198 198 198]\n",
      "  [125 125 125]\n",
      "  [255 255 255]\n",
      "  [255 255 255]\n",
      "  [147 147 147]]\n",
      "\n",
      " [[209 209 209]\n",
      "  [134 134 134]\n",
      "  [255 255 255]\n",
      "  [ 97  97  97]\n",
      "  [182 182 182]]\n",
      "\n",
      " [[187 187 187]\n",
      "  [158 158 158]\n",
      "  [104 104 104]\n",
      "  [121 121 121]\n",
      "  [143 143 143]]\n",
      "\n",
      " [[198 198 198]\n",
      "  [125 125 125]\n",
      "  [255 255 255]\n",
      "  [255 255 255]\n",
      "  [147 147 147]]\n",
      "\n",
      " [[209 209 209]\n",
      "  [134 134 134]\n",
      "  [255 255 255]\n",
      "  [ 97  97  97]\n",
      "  [182 182 182]]]\n"
     ]
    }
   ],
   "source": [
    "#stacking vertically\n",
    "ims=numpy.vstack((im_g,im_g,im_g)) \n",
    "print(ims)"
   ]
  },
  {
   "cell_type": "code",
   "execution_count": 30,
   "metadata": {},
   "outputs": [
    {
     "data": {
      "text/plain": [
       "[array([[[187, 187, 187],\n",
       "         [158, 158, 158],\n",
       "         [104, 104, 104],\n",
       "         [121, 121, 121],\n",
       "         [143, 143, 143]],\n",
       " \n",
       "        [[198, 198, 198],\n",
       "         [125, 125, 125],\n",
       "         [255, 255, 255],\n",
       "         [255, 255, 255],\n",
       "         [147, 147, 147]],\n",
       " \n",
       "        [[209, 209, 209],\n",
       "         [134, 134, 134],\n",
       "         [255, 255, 255],\n",
       "         [ 97,  97,  97],\n",
       "         [182, 182, 182]]], dtype=uint8),\n",
       " array([[[187, 187, 187],\n",
       "         [158, 158, 158],\n",
       "         [104, 104, 104],\n",
       "         [121, 121, 121],\n",
       "         [143, 143, 143]],\n",
       " \n",
       "        [[198, 198, 198],\n",
       "         [125, 125, 125],\n",
       "         [255, 255, 255],\n",
       "         [255, 255, 255],\n",
       "         [147, 147, 147]],\n",
       " \n",
       "        [[209, 209, 209],\n",
       "         [134, 134, 134],\n",
       "         [255, 255, 255],\n",
       "         [ 97,  97,  97],\n",
       "         [182, 182, 182]]], dtype=uint8),\n",
       " array([[[187, 187, 187],\n",
       "         [158, 158, 158],\n",
       "         [104, 104, 104],\n",
       "         [121, 121, 121],\n",
       "         [143, 143, 143]],\n",
       " \n",
       "        [[198, 198, 198],\n",
       "         [125, 125, 125],\n",
       "         [255, 255, 255],\n",
       "         [255, 255, 255],\n",
       "         [147, 147, 147]],\n",
       " \n",
       "        [[209, 209, 209],\n",
       "         [134, 134, 134],\n",
       "         [255, 255, 255],\n",
       "         [ 97,  97,  97],\n",
       "         [182, 182, 182]]], dtype=uint8)]"
      ]
     },
     "execution_count": 30,
     "metadata": {},
     "output_type": "execute_result"
    }
   ],
   "source": [
    "#splitting vertically\n",
    "lst=numpy.vsplit(ims,3)\n",
    "lst"
   ]
  },
  {
   "cell_type": "code",
   "execution_count": null,
   "metadata": {},
   "outputs": [],
   "source": []
  }
 ],
 "metadata": {
  "kernelspec": {
   "display_name": "Python 3.8.3 32-bit",
   "language": "python",
   "name": "python38332bit12fc7d71e70f4654a783caae54400027"
  },
  "language_info": {
   "codemirror_mode": {
    "name": "ipython",
    "version": 3
   },
   "file_extension": ".py",
   "mimetype": "text/x-python",
   "name": "python",
   "nbconvert_exporter": "python",
   "pygments_lexer": "ipython3",
   "version": "3.8.3"
  }
 },
 "nbformat": 4,
 "nbformat_minor": 4
}
